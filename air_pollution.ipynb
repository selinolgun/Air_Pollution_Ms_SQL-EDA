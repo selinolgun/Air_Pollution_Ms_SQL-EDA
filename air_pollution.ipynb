{
 "cells": [
  {
   "cell_type": "markdown",
   "metadata": {},
   "source": [
    "# Hava Kirliliği"
   ]
  },
  {
   "cell_type": "markdown",
   "metadata": {},
   "source": [
    "### 1 - Ms SQL Sorguları"
   ]
  },
  {
   "cell_type": "code",
   "execution_count": null,
   "metadata": {},
   "outputs": [],
   "source": [
    "SELECT * FROM [Air Pollution]"
   ]
  },
  {
   "cell_type": "code",
   "execution_count": null,
   "metadata": {},
   "outputs": [],
   "source": [
    "SELECT AVG(_2022) FROM [Air Pollution]\n",
    "\n",
    "# 114,64208657654"
   ]
  },
  {
   "cell_type": "code",
   "execution_count": null,
   "metadata": {},
   "outputs": [],
   "source": [
    "SELECT (_2022) FROM [Air Pollution] where (_2022)>114\n",
    "\n",
    "# (2172 rows affected)"
   ]
  },
  {
   "cell_type": "code",
   "execution_count": null,
   "metadata": {},
   "outputs": [],
   "source": [
    "SELECT AVG(_2021) FROM [Air Pollution]\n",
    "\n",
    "# 126,380532342928"
   ]
  },
  {
   "cell_type": "code",
   "execution_count": null,
   "metadata": {},
   "outputs": [],
   "source": [
    "SELECT (_2021) FROM [Air Pollution] where (_2021)>126\n",
    "\n",
    "# (2058 rows affected)"
   ]
  },
  {
   "cell_type": "code",
   "execution_count": null,
   "metadata": {},
   "outputs": [],
   "source": [
    "SELECT AVG(_2020) FROM [Air Pollution]\n",
    "\n",
    "# 129,74475082216"
   ]
  },
  {
   "cell_type": "code",
   "execution_count": null,
   "metadata": {},
   "outputs": [],
   "source": [
    "SELECT (_2020) FROM [Air Pollution] where (_2020)>129\n",
    "\n",
    "# (1176 rows affected)"
   ]
  },
  {
   "cell_type": "code",
   "execution_count": null,
   "metadata": {},
   "outputs": [],
   "source": [
    "SELECT AVG(_2019) FROM [Air Pollution]\n",
    "\n",
    "# 131,45529757139"
   ]
  },
  {
   "cell_type": "code",
   "execution_count": null,
   "metadata": {},
   "outputs": [],
   "source": [
    "SELECT (_2019) FROM [Air Pollution] where (_2019)>131\n",
    "\n",
    "# (1035 rows affected)"
   ]
  },
  {
   "cell_type": "code",
   "execution_count": null,
   "metadata": {},
   "outputs": [],
   "source": [
    "SELECT AVG(JAN) FROM [Air Pollution]\n",
    "\n",
    "# 154,591914354134"
   ]
  },
  {
   "cell_type": "code",
   "execution_count": null,
   "metadata": {},
   "outputs": [],
   "source": [
    "SELECT (JAN) FROM [Air Pollution] where (JAN)>154\n",
    "\n",
    "# (1966 rows affected)"
   ]
  },
  {
   "cell_type": "code",
   "execution_count": null,
   "metadata": {},
   "outputs": [],
   "source": [
    "SELECT AVG(FEB) FROM [Air Pollution]\n",
    "\n",
    "# 122,40192926045"
   ]
  },
  {
   "cell_type": "code",
   "execution_count": null,
   "metadata": {},
   "outputs": [],
   "source": [
    "SELECT (FEB) FROM [Air Pollution] where (FEB)>122\n",
    "\n",
    "# (1977 rows affected)"
   ]
  },
  {
   "cell_type": "code",
   "execution_count": null,
   "metadata": {},
   "outputs": [],
   "source": [
    "SELECT AVG(MAR) FROM [Air Pollution]\n",
    "\n",
    "# 130,52361878453"
   ]
  },
  {
   "cell_type": "code",
   "execution_count": null,
   "metadata": {},
   "outputs": [],
   "source": [
    "SELECT (MAR) FROM [Air Pollution] where (MAR)>130\n",
    "\n",
    "# (2467 rows affected)"
   ]
  },
  {
   "cell_type": "code",
   "execution_count": null,
   "metadata": {},
   "outputs": [],
   "source": [
    "SELECT AVG(APR) FROM [Air Pollution]\n",
    "\n",
    "# 105,123248145095"
   ]
  },
  {
   "cell_type": "code",
   "execution_count": null,
   "metadata": {},
   "outputs": [],
   "source": [
    "SELECT (APR) FROM [Air Pollution] where (APR)>105\n",
    "\n",
    "# (2217 rows affected)"
   ]
  },
  {
   "cell_type": "code",
   "execution_count": null,
   "metadata": {},
   "outputs": [],
   "source": [
    "SELECT AVG(MAY) FROM [Air Pollution]\n",
    "\n",
    "# 96,9165981922761"
   ]
  },
  {
   "cell_type": "code",
   "execution_count": null,
   "metadata": {},
   "outputs": [],
   "source": [
    "SELECT (MAY) FROM [Air Pollution] where (MAY)>96\n",
    "\n",
    "# (2723 rows affected)"
   ]
  },
  {
   "cell_type": "code",
   "execution_count": null,
   "metadata": {},
   "outputs": [],
   "source": [
    "SELECT AVG(JUN) FROM [Air Pollution]\n",
    "\n",
    "# 89,4521036042209"
   ]
  },
  {
   "cell_type": "code",
   "execution_count": null,
   "metadata": {},
   "outputs": [],
   "source": [
    "SELECT (JUN) FROM [Air Pollution] where (JUN)>89\n",
    "\n",
    "# (2895 rows affected)"
   ]
  },
  {
   "cell_type": "code",
   "execution_count": null,
   "metadata": {},
   "outputs": [],
   "source": [
    "SELECT AVG(JUL) FROM [Air Pollution]\n",
    "\n",
    "# 87,8815951760998"
   ]
  },
  {
   "cell_type": "code",
   "execution_count": null,
   "metadata": {},
   "outputs": [],
   "source": [
    "SELECT (JUL) FROM [Air Pollution] where (JUL)>87\n",
    "\n",
    "# (2874 rows affected)"
   ]
  },
  {
   "cell_type": "code",
   "execution_count": null,
   "metadata": {},
   "outputs": [],
   "source": [
    "SELECT AVG(AUG) FROM [Air Pollution]\n",
    "\n",
    "# 90,3540466392318"
   ]
  },
  {
   "cell_type": "code",
   "execution_count": null,
   "metadata": {},
   "outputs": [],
   "source": [
    "SELECT (AUG) FROM [Air Pollution] where (AUG)>90\n",
    "\n",
    "# (2921 rows affected)"
   ]
  },
  {
   "cell_type": "code",
   "execution_count": null,
   "metadata": {},
   "outputs": [],
   "source": [
    "SELECT AVG(SEP) FROM [Air Pollution]\n",
    "\n",
    "# 101,614471140569"
   ]
  },
  {
   "cell_type": "code",
   "execution_count": null,
   "metadata": {},
   "outputs": [],
   "source": [
    "SELECT (SEP) FROM [Air Pollution] where (SEP)>101\n",
    "\n",
    "# (2303 rows affected)"
   ]
  },
  {
   "cell_type": "code",
   "execution_count": null,
   "metadata": {},
   "outputs": [],
   "source": [
    "SELECT AVG(OCT) FROM [Air Pollution]\n",
    "\n",
    "# 115,935501730104"
   ]
  },
  {
   "cell_type": "code",
   "execution_count": null,
   "metadata": {},
   "outputs": [],
   "source": [
    "SELECT (OCT) FROM [Air Pollution] where (OCT)>115\n",
    "\n",
    "# (2371 rows affected)"
   ]
  },
  {
   "cell_type": "code",
   "execution_count": null,
   "metadata": {},
   "outputs": [],
   "source": [
    "SELECT AVG(NOV) FROM [Air Pollution]\n",
    "\n",
    "# 132,185484996511"
   ]
  },
  {
   "cell_type": "code",
   "execution_count": null,
   "metadata": {},
   "outputs": [],
   "source": [
    "SELECT (NOV) FROM [Air Pollution] where (NOV)>132\n",
    "\n",
    "# (2124 rows affected)"
   ]
  },
  {
   "cell_type": "code",
   "execution_count": null,
   "metadata": {},
   "outputs": [],
   "source": [
    "SELECT AVG(DEC) FROM [Air Pollution]\n",
    "\n",
    "# 146,666950113379"
   ]
  },
  {
   "cell_type": "code",
   "execution_count": null,
   "metadata": {},
   "outputs": [],
   "source": [
    "SELECT (DEC) FROM [Air Pollution] where (DEC)>146\n",
    "\n",
    "# (2119 rows affected)"
   ]
  },
  {
   "cell_type": "code",
   "execution_count": null,
   "metadata": {},
   "outputs": [],
   "source": [
    "SELECT DISTINCT SUBSTRING(City, CHARINDEX(',', City) + 1, LEN(City)) AS Unique_Values FROM [Air Pollution]\n",
    "\n",
    "# (134 rows affected)"
   ]
  },
  {
   "cell_type": "code",
   "execution_count": null,
   "metadata": {},
   "outputs": [],
   "source": [
    "SELECT TOP 10 SUBSTRING(City, CHARINDEX(',', City) + 1, LEN(City)) AS Unique_Values, COUNT(*) AS Tekrar_Sayisi\n",
    "FROM [Air Pollution]\n",
    "GROUP BY SUBSTRING(City, CHARINDEX(',', City) + 1, LEN(City))\n",
    "ORDER BY Tekrar_Sayisi DESC\n",
    "\n",
    "#  USA\t2894\n",
    "#  Japan\t631\n",
    "#  China\t524\n",
    "#  Canada\t304\n",
    "#  Germany\t204\n",
    "#  India\t202\n",
    "#  United Kingdom\t186\n",
    "#  Australia\t171\n",
    "#  Spain\t167\n",
    "#  Thailand\t156"
   ]
  },
  {
   "cell_type": "code",
   "execution_count": null,
   "metadata": {},
   "outputs": [],
   "source": [
    "SELECT AVG(_2022) AS Ortalama\n",
    "FROM [Air Pollution]\n",
    "WHERE City LIKE '%USA'\n",
    "\n",
    "# 71,2836903939184"
   ]
  },
  {
   "cell_type": "code",
   "execution_count": null,
   "metadata": {},
   "outputs": [],
   "source": [
    "SELECT AVG(_2022) AS Ortalama\n",
    "FROM [Air Pollution]\n",
    "WHERE City LIKE '%Japan'\n",
    "\n",
    "# 82,6069730586371"
   ]
  },
  {
   "cell_type": "code",
   "execution_count": null,
   "metadata": {},
   "outputs": [],
   "source": [
    "SELECT AVG(_2022) AS Ortalama\n",
    "FROM [Air Pollution]\n",
    "WHERE City LIKE '%China'\n",
    "\n",
    "# 263,843511450382"
   ]
  },
  {
   "cell_type": "code",
   "execution_count": null,
   "metadata": {},
   "outputs": [],
   "source": [
    "SELECT AVG(_2022) AS Ortalama\n",
    "FROM [Air Pollution]\n",
    "WHERE City LIKE '%Canada'\n",
    "\n",
    "# 62,6414473684211"
   ]
  },
  {
   "cell_type": "code",
   "execution_count": null,
   "metadata": {},
   "outputs": [],
   "source": [
    "SELECT AVG(_2022) AS Ortalama\n",
    "FROM [Air Pollution]\n",
    "WHERE City LIKE '%Germany'\n",
    "\n",
    "# 87,3970588235294"
   ]
  },
  {
   "cell_type": "code",
   "execution_count": null,
   "metadata": {},
   "outputs": [],
   "source": [
    "SELECT AVG(_2022) AS Ortalama\n",
    "FROM [Air Pollution]\n",
    "WHERE City LIKE '%India'\n",
    "\n",
    "# 393,990099009901"
   ]
  },
  {
   "cell_type": "code",
   "execution_count": null,
   "metadata": {},
   "outputs": [],
   "source": [
    "SELECT AVG(_2022) AS Ortalama\n",
    "FROM [Air Pollution]\n",
    "WHERE City LIKE '%United Kingdom'\n",
    "\n",
    "# 72,8870967741936"
   ]
  },
  {
   "cell_type": "code",
   "execution_count": null,
   "metadata": {},
   "outputs": [],
   "source": [
    "SELECT AVG(_2022) AS Ortalama\n",
    "FROM [Air Pollution]\n",
    "WHERE City LIKE '%Australia'\n",
    "\n",
    "# 36,7543859649123"
   ]
  },
  {
   "cell_type": "code",
   "execution_count": null,
   "metadata": {},
   "outputs": [],
   "source": [
    "SELECT AVG(_2022) AS Ortalama\n",
    "FROM [Air Pollution]\n",
    "WHERE City LIKE '%Spain'\n",
    "\n",
    "# 88,7904191616767"
   ]
  },
  {
   "cell_type": "code",
   "execution_count": null,
   "metadata": {},
   "outputs": [],
   "source": [
    "SELECT AVG(_2022) AS Ortalama\n",
    "FROM [Air Pollution]\n",
    "WHERE City LIKE '%Thailand'\n",
    "\n",
    "# 177,891719745223"
   ]
  },
  {
   "cell_type": "code",
   "execution_count": null,
   "metadata": {},
   "outputs": [],
   "source": [
    "SELECT TOP 10 Unique_Value, Ortalama\n",
    "FROM (\n",
    "  SELECT SUBSTRING(City, CHARINDEX(',', City) + 2, LEN(City)) AS Unique_Value, AVG(_2022) AS Ortalama\n",
    "  FROM [Air Pollution]\n",
    "  WHERE CHARINDEX(',', City) > 0\n",
    "  GROUP BY SUBSTRING(City, CHARINDEX(',', City) + 2, LEN(City))\n",
    ") AS Subquery\n",
    "ORDER BY Ortalama DESC\n",
    "\n",
    "# Chad\t897\n",
    "# Pakistan\t692,571428571429\n",
    "# Bahrain\t666\n",
    "# Bangladesh\t658\n",
    "# Qatar\t453\n",
    "# Iraq\t451\n",
    "# Kuwait\t450\n",
    "# Sudan\t446\n",
    "# Saudi Arabia\t406,5\n",
    "# Tajikistan\t398,6"
   ]
  },
  {
   "cell_type": "code",
   "execution_count": null,
   "metadata": {},
   "outputs": [],
   "source": [
    "SELECT TOP 10 Unique_Value, Ortalama\n",
    "FROM (\n",
    "  SELECT SUBSTRING(City, CHARINDEX(',', City) + 2, LEN(City)) AS Unique_Value, AVG(_2022) AS Ortalama\n",
    "  FROM [Air Pollution]\n",
    "  WHERE CHARINDEX(',', City) > 0\n",
    "  GROUP BY SUBSTRING(City, CHARINDEX(',', City) + 2, LEN(City))\n",
    ") AS Subquery\n",
    "ORDER BY Ortalama ASC\n",
    "\n",
    "# Bermuda\t3\n",
    "# Suriname\t7\n",
    "# Panama\t9\n",
    "# Guam\t13\n",
    "# U.S. Virgin Islands\t15\n",
    "# Iceland\t23\n",
    "# French Polynesia\t25\n",
    "# Gabon\t25\n",
    "# Saint Eustatius and SabaThe Bottom, Bonaire, Saint Eustatius and Saba\t33\n",
    "# New Caledonia\t35"
   ]
  },
  {
   "cell_type": "code",
   "execution_count": null,
   "metadata": {},
   "outputs": [],
   "source": [
    "SELECT TOP 10 Unique_Value, Ortalama\n",
    "FROM (\n",
    "  SELECT SUBSTRING(City, CHARINDEX(',', City) + 2, LEN(City)) AS Unique_Value, AVG(_2021) AS Ortalama\n",
    "  FROM [Air Pollution]\n",
    "  WHERE CHARINDEX(',', City) > 0 AND _2021 IS NOT NULL\n",
    "  GROUP BY SUBSTRING(City, CHARINDEX(',', City) + 2, LEN(City))\n",
    ") AS Subquery\n",
    "ORDER BY Ortalama DESC\n",
    "\n",
    "# Bangladesh\t781\n",
    "# Chad\t776\n",
    "# Pakistan\t596,857142857143\n",
    "# Kyrgyzstan\t546\n",
    "# Bahrain\t498\n",
    "# Iraq\t497\n",
    "# Tajikistan\t451,2\n",
    "# Democratic Republic of the Congo\t446\n",
    "# Sudan\t441\n",
    "# Rwanda\t431"
   ]
  },
  {
   "cell_type": "code",
   "execution_count": null,
   "metadata": {},
   "outputs": [],
   "source": [
    "SELECT TOP 10 Unique_Value, Ortalama\n",
    "FROM (\n",
    "  SELECT SUBSTRING(City, CHARINDEX(',', City) + 2, LEN(City)) AS Unique_Value, AVG(_2021) AS Ortalama\n",
    "  FROM [Air Pollution]\n",
    "  WHERE CHARINDEX(',', City) > 0 AND _2021 IS NOT NULL\n",
    "  GROUP BY SUBSTRING(City, CHARINDEX(',', City) + 2, LEN(City))\n",
    ") AS Subquery\n",
    "ORDER BY Ortalama ASC\n",
    "\n",
    "# Latvia\t8\n",
    "# Angola\t11\n",
    "# Algeria\t20\n",
    "# Guam\t23\n",
    "# Bermuda\t33\n",
    "# New Caledonia\t38\n",
    "# French Polynesia\t43\n",
    "# U.S. Virgin Islands\t45,5\n",
    "# Finland\t45,7307692307692\n",
    "# Iceland\t47"
   ]
  },
  {
   "cell_type": "code",
   "execution_count": null,
   "metadata": {},
   "outputs": [],
   "source": [
    "SELECT TOP 10 Unique_Value, Ortalama\n",
    "FROM (\n",
    "  SELECT SUBSTRING(City, CHARINDEX(',', City) + 2, LEN(City)) AS Unique_Value, AVG(_2020) AS Ortalama\n",
    "  FROM [Air Pollution]\n",
    "  WHERE CHARINDEX(',', City) > 0 AND _2020 IS NOT NULL\n",
    "  GROUP BY SUBSTRING(City, CHARINDEX(',', City) + 2, LEN(City))\n",
    ") AS Subquery\n",
    "ORDER BY Ortalama DESC\n",
    "\n",
    "# Bangladesh\t771\n",
    "# Pakistan\t535,333333333333\n",
    "# India\t490,409090909091\n",
    "# Afghanistan\t465\n",
    "# Qatar\t443\n",
    "# Kyrgyzstan\t435\n",
    "# Bahrain\t397\n",
    "# Nepal\t392\n",
    "# Tajikistan\t309\n",
    "# Kazakhstan\t306"
   ]
  },
  {
   "cell_type": "code",
   "execution_count": null,
   "metadata": {},
   "outputs": [],
   "source": [
    "SELECT TOP 10 Unique_Value, Ortalama\n",
    "FROM (\n",
    "  SELECT SUBSTRING(City, CHARINDEX(',', City) + 2, LEN(City)) AS Unique_Value, AVG(_2020) AS Ortalama\n",
    "  FROM [Air Pollution]\n",
    "  WHERE CHARINDEX(',', City) > 0 AND _2020 IS NOT NULL\n",
    "  GROUP BY SUBSTRING(City, CHARINDEX(',', City) + 2, LEN(City))\n",
    ") AS Subquery\n",
    "ORDER BY Ortalama ASC\n",
    "\n",
    "# Angola\t13\n",
    "# Albania\t16\n",
    "# Turkmenistan\t17\n",
    "# Kuwait\t34\n",
    "# U.S. Virgin Islands\t36,5\n",
    "# New Caledonia\t37\n",
    "# Puerto Rico\t37\n",
    "# Finland\t47,1052631578947\n",
    "# Norway\t48,7307692307692\n",
    "# Sweden\t50,0909090909091"
   ]
  },
  {
   "cell_type": "code",
   "execution_count": null,
   "metadata": {},
   "outputs": [],
   "source": [
    "SELECT TOP 10 Unique_Value, Ortalama\n",
    "FROM (\n",
    "  SELECT SUBSTRING(City, CHARINDEX(',', City) + 2, LEN(City)) AS Unique_Value, AVG(_2019) AS Ortalama\n",
    "  FROM [Air Pollution]\n",
    "  WHERE CHARINDEX(',', City) > 0 AND _2019 IS NOT NULL\n",
    "  GROUP BY SUBSTRING(City, CHARINDEX(',', City) + 2, LEN(City))\n",
    ") AS Subquery\n",
    "ORDER BY Ortalama DESC\n",
    "\n",
    "# Bangladesh\t833\n",
    "# Pakistan\t620,6\n",
    "# Afghanistan\t588\n",
    "# India\t484,771428571429\n",
    "# Bahrain\t468\n",
    "# Uzbekistan\t412\n",
    "# United Arab Emirates\t396,5\n",
    "# Indonesia\t392,5\n",
    "# Kuwait\t383\n",
    "# Bosnia Herzegovina\t347,333333333333"
   ]
  },
  {
   "cell_type": "code",
   "execution_count": null,
   "metadata": {},
   "outputs": [],
   "source": [
    "SELECT TOP 10 Unique_Value, Ortalama\n",
    "FROM (\n",
    "  SELECT SUBSTRING(City, CHARINDEX(',', City) + 2, LEN(City)) AS Unique_Value, AVG(_2019) AS Ortalama\n",
    "  FROM [Air Pollution]\n",
    "  WHERE CHARINDEX(',', City) > 0 AND _2019 IS NOT NULL\n",
    "  GROUP BY SUBSTRING(City, CHARINDEX(',', City) + 2, LEN(City))\n",
    ") AS Subquery\n",
    "ORDER BY Ortalama ASC\n",
    "\n",
    "# Egypt\t18\n",
    "# Singapore\t19\n",
    "# Myanmar\t31\n",
    "# Nepal\t34\n",
    "# U.S. Virgin Islands\t34,5\n",
    "# Finland\t39,8235294117647\n",
    "# Iceland\t51\n",
    "# Estonia\t57,875\n",
    "# Sweden\t61,4545454545455\n",
    "# Canada\t61,9459459459459"
   ]
  },
  {
   "cell_type": "code",
   "execution_count": null,
   "metadata": {},
   "outputs": [],
   "source": [
    "SELECT City, _2022\n",
    "FROM [Air Pollution]\n",
    "WHERE City LIKE '%USA'\n",
    "ORDER BY _2022 DESC\n",
    "\n",
    "# USAOakridge, USA\n",
    "# 335\n",
    "# USATerryville, USA\n",
    "# 1"
   ]
  },
  {
   "cell_type": "code",
   "execution_count": null,
   "metadata": {},
   "outputs": [],
   "source": [
    "SELECT City, _2022\n",
    "FROM [Air Pollution]\n",
    "WHERE City LIKE '%Japan'\n",
    "ORDER BY _2022 DESC\n",
    "\n",
    "# JapanKasaoka, Japan\n",
    "# 146\n",
    "# JapanShingu, Japan\n",
    "# 6"
   ]
  },
  {
   "cell_type": "code",
   "execution_count": null,
   "metadata": {},
   "outputs": [],
   "source": [
    "SELECT City, _2022\n",
    "FROM [Air Pollution]\n",
    "WHERE City LIKE '%China'\n",
    "ORDER BY _2022 DESC\n",
    "\n",
    "# ChinaHotan, China\n",
    "# 943\n",
    "# ChinaRikaze, China\n",
    "# 7"
   ]
  },
  {
   "cell_type": "code",
   "execution_count": null,
   "metadata": {},
   "outputs": [],
   "source": [
    "SELECT City, _2022\n",
    "FROM [Air Pollution]\n",
    "WHERE City LIKE '%Canada'\n",
    "ORDER BY _2022 DESC\n",
    "\n",
    "# CanadaClearwater, Canada\n",
    "# 181\n",
    "# CanadaPowell River, Canada\n",
    "# 4"
   ]
  },
  {
   "cell_type": "code",
   "execution_count": null,
   "metadata": {},
   "outputs": [],
   "source": [
    "SELECT City, _2022\n",
    "FROM [Air Pollution]\n",
    "WHERE City LIKE '%Germany'\n",
    "ORDER BY _2022 DESC\n",
    "\n",
    "# GermanyMeppen, Germany\n",
    "# 153\n",
    "# GermanySchwabische Alb, Germany\n",
    "# 7"
   ]
  },
  {
   "cell_type": "code",
   "execution_count": null,
   "metadata": {},
   "outputs": [],
   "source": [
    "SELECT City, _2022\n",
    "FROM [Air Pollution]\n",
    "WHERE City LIKE '%India'\n",
    "ORDER BY _2022 DESC\n",
    "\n",
    "# IndiaBhiwadi, India\n",
    "# 927\n",
    "# IndiaTarakeswar, India\n",
    "# 9"
   ]
  },
  {
   "cell_type": "code",
   "execution_count": null,
   "metadata": {},
   "outputs": [],
   "source": [
    "SELECT City, _2022\n",
    "FROM [Air Pollution]\n",
    "WHERE City LIKE '%United Kingdom'\n",
    "ORDER BY _2022 DESC\n",
    "\n",
    "# United KingdomFaversham, United Kingdom\n",
    "# 122\n",
    "# United KingdomMilngavie, United Kingdom\n",
    "# 5"
   ]
  },
  {
   "cell_type": "code",
   "execution_count": null,
   "metadata": {},
   "outputs": [],
   "source": [
    "SELECT City, _2022\n",
    "FROM [Air Pollution]\n",
    "WHERE City LIKE '%Australia'\n",
    "ORDER BY _2022 DESC\n",
    "\n",
    "# AustraliaLudmilla, Australia\n",
    "# 123\n",
    "# AustraliaCockburn, Australia\n",
    "# 2"
   ]
  },
  {
   "cell_type": "code",
   "execution_count": null,
   "metadata": {},
   "outputs": [],
   "source": [
    "SELECT City, _2022\n",
    "FROM [Air Pollution]\n",
    "WHERE City LIKE '%Spain'\n",
    "ORDER BY _2022 DESC\n",
    "\n",
    "# SpainPuebla de Alfinden, Spain\n",
    "# 156\n",
    "# SpainCastello de la Plana, Spain\n",
    "# 4"
   ]
  },
  {
   "cell_type": "code",
   "execution_count": null,
   "metadata": {},
   "outputs": [],
   "source": [
    "SELECT City, _2022\n",
    "FROM [Air Pollution]\n",
    "WHERE City LIKE '%Thailand'\n",
    "ORDER BY _2022 DESC\n",
    "\n",
    "# ThailandChaloem Phra Kiat, Thailand\n",
    "# 362\n",
    "# ThailandKo Mak, Thailand\n",
    "# 9"
   ]
  },
  {
   "cell_type": "code",
   "execution_count": null,
   "metadata": {},
   "outputs": [],
   "source": [
    "SELECT City, _2022\n",
    "FROM [Air Pollution]\n",
    "ORDER BY _2022 DESC\n",
    "\n",
    "# PakistanLahore, Pakistan\n",
    "# 974\n",
    "# USATerryville, USA\n",
    "# 1"
   ]
  },
  {
   "cell_type": "code",
   "execution_count": null,
   "metadata": {},
   "outputs": [],
   "source": [
    "SELECT City, _2021\n",
    "FROM [Air Pollution]\n",
    "WHERE _2021 IS NOT NULL\n",
    "ORDER BY _2021 DESC\n",
    "\n",
    "# IndiaDarbhanga, India\n",
    "# 1759\n",
    "# AustraliaMoree, Australia\n",
    "# 2"
   ]
  },
  {
   "cell_type": "code",
   "execution_count": null,
   "metadata": {},
   "outputs": [],
   "source": [
    "SELECT City, _2020\n",
    "FROM [Air Pollution]\n",
    "WHERE _2020 IS NOT NULL\n",
    "ORDER BY _2020 DESC\n",
    "\n",
    "# ChinaHotan, China\n",
    "# 1102\n",
    "# AustraliaOuyen, Australia\n",
    "# 3"
   ]
  },
  {
   "cell_type": "code",
   "execution_count": null,
   "metadata": {},
   "outputs": [],
   "source": [
    "SELECT City, _2019\n",
    "FROM [Air Pollution]\n",
    "WHERE _2019 IS NOT NULL\n",
    "ORDER BY _2019 DESC\n",
    "\n",
    "# IndiaGhaziabad, India\n",
    "# 1102\n",
    "# USAWaimea, USA\n",
    "# 2"
   ]
  },
  {
   "cell_type": "markdown",
   "metadata": {},
   "source": [
    "### 2 - Sonuçlar"
   ]
  },
  {
   "cell_type": "markdown",
   "metadata": {},
   "source": [
    "2022'de ortalama hava kirliliği 114'tür.\n",
    "\n",
    "2022'de ortalama hava kirliliğini aşan şehir sayısı 2172'dir.\n",
    "\n",
    "2021'de ortalama hava kirliliği 126'tür.\n",
    "\n",
    "2021'de ortalama hava kirliliğini aşan şehir sayısı 2058'dir.\n",
    "\n",
    "2020'de ortalama hava kirliliği 129'tür.\n",
    "\n",
    "2020'de ortalama hava kirliliğini aşan şehir sayısı 1176'dir.\n",
    "\n",
    "2019'da ortalama hava kirliliği 131'tür.\n",
    "\n",
    "2019'da ortalama hava kirliliğini aşan şehir sayısı 1035'dir.\n",
    "\n",
    "2019'dan 2022'ye ilerlerken ortalama hava kirliliği git gide düşmektedir.\n",
    "\n",
    "Ancak ortalama hava kirliliğini aşan şehir sayısı git gide artmaktadır.\n",
    "\n",
    "2022'nin Ocak ayında ortalama hava kirliliği 154'tür.\n",
    "\n",
    "2022'nin Ocak ayında ortalama hava kirliliğini aşan şehir sayısı 1966'dır.\n",
    "\n",
    "2022'nin Şubat ayında ortalama hava kirliliği 122'tür.\n",
    "\n",
    "2022'nin Şubat ayında ortalama hava kirliliğini aşan şehir sayısı 1977'dır.\n",
    "\n",
    "2022'nin Mart ayında ortalama hava kirliliği 130'tür.\n",
    "\n",
    "2022'nin Mart ayında ortalama hava kirliliğini aşan şehir sayısı 2467'dır.\n",
    "\n",
    "2022'nin Nisan ayında ortalama hava kirliliği 105'tür.\n",
    "\n",
    "2022'nin Nisan ayında ortalama hava kirliliğini aşan şehir sayısı 2217'dır.\n",
    "\n",
    "2022'nin Mayıs ayında ortalama hava kirliliği 96'tür.\n",
    "\n",
    "2022'nin Mayıs ayında ortalama hava kirliliğini aşan şehir sayısı 2723'dır.\n",
    "\n",
    "2022'nin Haziran ayında ortalama hava kirliliği 89'tür.\n",
    "\n",
    "2022'nin Haziran ayında ortalama hava kirliliğini aşan şehir sayısı 2895'dır.\n",
    "\n",
    "2022'nin Temmuz ayında ortalama hava kirliliği 87'tür.\n",
    "\n",
    "2022'nin Temmuz ayında ortalama hava kirliliğini aşan şehir sayısı 2874'dır.\n",
    "\n",
    "2022'nin Ağustos ayında ortalama hava kirliliği 90'tür.\n",
    "\n",
    "2022'nin Ağustos ayında ortalama hava kirliliğini aşan şehir sayısı 2921'dır.\n",
    "\n",
    "2022'nin Eylül ayında ortalama hava kirliliği 101'tür.\n",
    "\n",
    "2022'nin Eylül ayında ortalama hava kirliliğini aşan şehir sayısı 2303'dır.\n",
    "\n",
    "2022'nin Ekim ayında ortalama hava kirliliği 115'tür.\n",
    "\n",
    "2022'nin Ekim ayında ortalama hava kirliliğini aşan şehir sayısı 2371'dır.\n",
    "\n",
    "2022'nin Kasım ayında ortalama hava kirliliği 132'tür.\n",
    "\n",
    "2022'nin Kasım ayında ortalama hava kirliliğini aşan şehir sayısı 2124'dır.\n",
    "\n",
    "2022'nin Aralık ayında ortalama hava kirliliği 146'tür.\n",
    "\n",
    "2022'nin Aralık ayında ortalama hava kirliliğini aşan şehir sayısı 2119'dır.\n",
    "\n",
    "Kış aylarında şehirlerdeki hava kirliliği ortalaması yaza göre daha yüksektir.\n",
    "\n",
    "USA'nin şehirlerinde ortalama hava kirliliği 71'dir.\n",
    "\n",
    "Japonya'nin şehirlerinde ortalama hava kirliliği 82'dir.\n",
    "\n",
    "Çin'nin şehirlerinde ortalama hava kirliliği 263'dir.\n",
    "\n",
    "Kanada'nin şehirlerinde ortalama hava kirliliği 62'dir.\n",
    "\n",
    "Hindistan'nin şehirlerinde ortalama hava kirliliği 393'dir.\n",
    "\n",
    "Almanya'nin şehirlerinde ortalama hava kirliliği 87'dir.\n",
    "\n",
    "İngiltere'nin şehirlerinde ortalama hava kirliliği 72'dir.\n",
    "\n",
    "Avustralya'nin şehirlerinde ortalama hava kirliliği 36'dir.\n",
    "\n",
    "İspanya'nin şehirlerinde ortalama hava kirliliği 88'dir.\n",
    "\n",
    "Tayland'nin şehirlerinde ortalama hava kirliliği 177'dir.\n",
    "\n",
    "2022 yılında en yüksek hava kirliliği ortalamasına sahip ülke Çad'dır.\n",
    "\n",
    "2022 yılında en düşük hava kirliliği ortalamasına sahip ülke Bermuda'dır.\n",
    "\n",
    "2021 yılında en yüksek hava kirliliği ortalamasına sahip ülke Bangladeş'dır.\n",
    "\n",
    "2021 yılında en düşük hava kirliliği ortalamasına sahip ülke Letonya'dır.\n",
    "\n",
    "2020 yılında en yüksek hava kirliliği ortalamasına sahip ülke Bangladeş'dır.\n",
    "\n",
    "2020 yılında en düşük hava kirliliği ortalamasına sahip ülke Angola'dır.\n",
    "\n",
    "2019 yılında en yüksek hava kirliliği ortalamasına sahip ülke Bangladeş'dır.\n",
    "\n",
    "2019 yılında en düşük hava kirliliği ortalamasına sahip ülke Mısır'dır.\n",
    "\n",
    "USA'de en yüksek hava kirliliğine sahip şehir Oakridge'dir.\n",
    "\n",
    "USA'de en düşük hava kirliliğine sahip şehir Terryville'dir.\n",
    "\n",
    "Japonya'de en yüksek hava kirliliğine sahip şehir Kasaoka'dir.\n",
    "\n",
    "Japonya'de en düşük hava kirliliğine sahip şehir Shingu'dir.\n",
    "\n",
    "Çin'de en yüksek hava kirliliğine sahip şehir Hotan'dir.\n",
    "\n",
    "Çin'de en düşük hava kirliliğine sahip şehir Rikaze'dir.\n",
    "\n",
    "Kanada'de en yüksek hava kirliliğine sahip şehir Clearwater'dir.\n",
    "\n",
    "Kanada'de en düşük hava kirliliğine sahip şehir Powell River'dir.\n",
    "\n",
    "Almanya'de en yüksek hava kirliliğine sahip şehir Meppen'dir.\n",
    "\n",
    "Almanya'de en düşük hava kirliliğine sahip şehir Schwabische Alb'dir.\n",
    "\n",
    "Hindistan'de en yüksek hava kirliliğine sahip şehir Bhiwadi'dir.\n",
    "\n",
    "Hindistan'de en düşük hava kirliliğine sahip şehir Tarakeswar'dir.\n",
    "\n",
    "İngiltere'de en yüksek hava kirliliğine sahip şehir Faversham'dir.\n",
    "\n",
    "İngiltere'de en düşük hava kirliliğine sahip şehir Milngavie'dir.\n",
    "\n",
    "Avustralya'de en yüksek hava kirliliğine sahip şehir Ludmilla'dir.\n",
    "\n",
    "Avustralya'de en düşük hava kirliliğine sahip şehir Cockburn'dir.\n",
    "\n",
    "İspanya'de en yüksek hava kirliliğine sahip şehir Puebla de Alfinden'dir.\n",
    "\n",
    "İspanya'de en düşük hava kirliliğine sahip şehir Castello de la Plana'dir.\n",
    "\n",
    "Tayland'de en yüksek hava kirliliğine sahip şehir Chaloem Phra Kiat'dir.\n",
    "\n",
    "Tayland'de en düşük hava kirliliğine sahip şehir Mak'dir.\n",
    "\n",
    "2022'de en yüksek hava kirliliğine sahip şehir Pakistan'ın Lahore şehridir.\n",
    "\n",
    "2022'de en düşük hava kirliliğine sahip şehir USA'ın Terryville şehridir.\n",
    "\n",
    "2021'de en yüksek hava kirliliğine sahip şehir Hindistan'ın Darbhanga şehridir.\n",
    "\n",
    "2021'de en düşük hava kirliliğine sahip şehir Avustralya'ın Moree şehridir.\n",
    "\n",
    "2020'de en yüksek hava kirliliğine sahip şehir Çin'ın Hotan şehridir.\n",
    "\n",
    "2020'de en düşük hava kirliliğine sahip şehir Avustralya'ın Ouyen şehridir.\n",
    "\n",
    "2019'de en yüksek hava kirliliğine sahip şehir Hindistan'ın Ghaziabad şehridir.\n",
    "\n",
    "2019'de en düşük hava kirliliğine sahip şehir USA'ın Waimea şehridir."
   ]
  },
  {
   "cell_type": "markdown",
   "metadata": {},
   "source": [
    "### 3 - Öneriler"
   ]
  },
  {
   "cell_type": "markdown",
   "metadata": {},
   "source": [
    "2022'de hava kirliliği ortalaması 114 olarak belirlenmiş ve aşan şehir sayısı 2172 olmuş. Bu yüksek sayılar göz önüne alındığında, hava kirliliğiyle mücadelede acil önlemler alınmalıdır. Şehirlerdeki endüstriyel emisyonlar kontrol altına alınmalı ve sanayi tesislerinde daha sıkı düzenlemeler yapılmalıdır.\n",
    "\n",
    "Kış aylarında hava kirliliği ortalaması yaz aylarına göre daha yüksek olduğu belirtilmiş. Bu durumda, ısınma yöntemlerinin gözden geçirilmesi önemlidir. Daha verimli ısıtma sistemleri kullanılmalı, kömür gibi kirletici yakıtların kullanımı azaltılmalı ve yerine temiz enerji kaynakları tercih edilmelidir.\n",
    "\n",
    "Çin'in şehirlerinde ortalama hava kirliliği 263 olarak belirlenmiş. Çin, yoğun nüfusu ve büyük sanayi sektörüyle bilinen bir ülke olduğundan, hava kirliliğiyle mücadelede öncelikli adımlar atılmalıdır. Sanayi tesislerindeki emisyonlar kontrol altına alınmalı, enerji üretiminde yenilenebilir enerji kaynaklarına geçiş hızlandırılmalı ve trafik yönetimiyle ilgili önlemler alınmalıdır.\n",
    "\n",
    "Hindistan'ın şehirlerinde ortalama hava kirliliği 393 olarak belirlenmiş. Hindistan, hava kirliliği sorunuyla mücadele etmek için özel önlemler almalıdır. Temiz enerji kaynaklarına yatırım yapılmalı, kömür yakıtlı termik santrallerin sayısı azaltılmalı ve çevre dostu ulaşım sistemleri teşvik edilmelidir.\n",
    "\n",
    "USA'nin şehirlerinde ortalama hava kirliliği 71 olarak belirlenmiş. Bu oran, diğer ülkelerin hava kirliliği seviyelerine göre daha düşüktür. Bununla birlikte, hava kirliliğini daha da azaltmak için daha fazla sürdürülebilir ulaşım seçenekleri teşvik edilebilir ve enerji üretiminde yenilenebilir kaynaklara daha fazla yatırım yapılabilir."
   ]
  },
  {
   "cell_type": "code",
   "execution_count": null,
   "metadata": {},
   "outputs": [],
   "source": []
  }
 ],
 "metadata": {
  "language_info": {
   "name": "python"
  },
  "orig_nbformat": 4
 },
 "nbformat": 4,
 "nbformat_minor": 2
}
